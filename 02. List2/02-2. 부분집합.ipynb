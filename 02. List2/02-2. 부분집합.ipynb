{
 "cells": [
  {
   "cell_type": "markdown",
   "metadata": {},
   "source": [
    "# 부분집합"
   ]
  },
  {
   "cell_type": "markdown",
   "metadata": {},
   "source": [
    "## 부분 집합 문제 "
   ]
  },
  {
   "cell_type": "markdown",
   "metadata": {},
   "source": [
    "### 부분 집합의 합 문제\n",
    " - 유한 개의 정수로 이루어진 집합이 있을 때, 이 집합의 부분 집합 중에서 그 집합의 원소를 모두 더한 값이 0이 되는 경우가 있는지를 알아내는 문제\n",
    " - 완전 검색기법으로 풀기 위해서는, 모든 부분 집합 생성 후 각 부분 집합의 합을 계산\n",
    " \n",
    "#### 부분 집합의 수\n",
    " - 부분 집합의 총 개수: 집합의 원소가 n개일 때, 공집합을 포함한 부분 집합의 수는 2^n개\n",
    " - (각 원소를 모든 부분 집합에 포함시키거나 포함시키지 않는 2가지 경우를 모든 원소에 적용한 경우의 수와 같음)"
   ]
  },
  {
   "cell_type": "markdown",
   "metadata": {},
   "source": [
    "### 부분 집합 문제 알고리즘 1\n",
    " - Loop를 이용하여 확인하고, 부분 집합을 생성하는 방법"
   ]
  },
  {
   "cell_type": "code",
   "execution_count": 2,
   "metadata": {},
   "outputs": [
    {
     "name": "stdout",
     "output_type": "stream",
     "text": [
      "[0, 0, 0, 0]\n",
      "[0, 0, 0, 1]\n",
      "[0, 0, 1, 0]\n",
      "[0, 0, 1, 1]\n",
      "[0, 1, 0, 0]\n",
      "[0, 1, 0, 1]\n",
      "[0, 1, 1, 0]\n",
      "[0, 1, 1, 1]\n",
      "[1, 0, 0, 0]\n",
      "[1, 0, 0, 1]\n",
      "[1, 0, 1, 0]\n",
      "[1, 0, 1, 1]\n",
      "[1, 1, 0, 0]\n",
      "[1, 1, 0, 1]\n",
      "[1, 1, 1, 0]\n",
      "[1, 1, 1, 1]\n"
     ]
    }
   ],
   "source": [
    "bit = [0, 0, 0, 0] # 비트 List : 대상 List의 각 원소를 포함할지 말지를 정하는 List => 2진수와 동일하다는 특성 활용 가능\n",
    "for i in range(2):\n",
    "    bit[0] = i                  # 0번째 원소\n",
    "    for j in range(2):\n",
    "        bit[1] = j              # 1번째 원소\n",
    "        for k in range(2):\n",
    "            bit[2] = k          # 2번째 원소\n",
    "            for l in range(2):\n",
    "                bit[3] = l      # 3번째 원소\n",
    "                print(bit)      # 생성된 부분집합 출력"
   ]
  },
  {
   "cell_type": "markdown",
   "metadata": {},
   "source": [
    "### 부분 집합 문제 알고리즘 2\n",
    " - 비트 연산자: 0과 1로 이루어진 이진수에 대한 연산을 수행하는 연산자\n",
    " - & : 비트 단위로 AND 연산을 함\n",
    " - | : 비트 단위로 OR 연산을 함\n",
    " - ^ : XOR 연산\n",
    " - ~ : 보수 연산\n",
    " - << : 피연산자의 비트 열을 변수 값만큼 왼쪽으로 이동시킴\n",
    " - \\>\\> : 피연산자의 비트 열을 변수 값만큼 오른쪽으로 이동시킴"
   ]
  },
  {
   "cell_type": "code",
   "execution_count": 7,
   "metadata": {},
   "outputs": [
    {
     "name": "stdout",
     "output_type": "stream",
     "text": [
      "\n",
      "3,\n",
      "6,\n",
      "3,6,\n",
      "7,\n",
      "3,7,\n",
      "6,7,\n",
      "3,6,7,\n",
      "1,\n",
      "3,1,\n",
      "6,1,\n",
      "3,6,1,\n",
      "7,1,\n",
      "3,7,1,\n",
      "6,7,1,\n",
      "3,6,7,1,\n",
      "5,\n",
      "3,5,\n",
      "6,5,\n",
      "3,6,5,\n",
      "7,5,\n",
      "3,7,5,\n",
      "6,7,5,\n",
      "3,6,7,5,\n",
      "1,5,\n",
      "3,1,5,\n",
      "6,1,5,\n",
      "3,6,1,5,\n",
      "7,1,5,\n",
      "3,7,1,5,\n",
      "6,7,1,5,\n",
      "3,6,7,1,5,\n",
      "4,\n",
      "3,4,\n",
      "6,4,\n",
      "3,6,4,\n",
      "7,4,\n",
      "3,7,4,\n",
      "6,7,4,\n",
      "3,6,7,4,\n",
      "1,4,\n",
      "3,1,4,\n",
      "6,1,4,\n",
      "3,6,1,4,\n",
      "7,1,4,\n",
      "3,7,1,4,\n",
      "6,7,1,4,\n",
      "3,6,7,1,4,\n",
      "5,4,\n",
      "3,5,4,\n",
      "6,5,4,\n",
      "3,6,5,4,\n",
      "7,5,4,\n",
      "3,7,5,4,\n",
      "6,7,5,4,\n",
      "3,6,7,5,4,\n",
      "1,5,4,\n",
      "3,1,5,4,\n",
      "6,1,5,4,\n",
      "3,6,1,5,4,\n",
      "7,1,5,4,\n",
      "3,7,1,5,4,\n",
      "6,7,1,5,4,\n",
      "3,6,7,1,5,4,\n"
     ]
    }
   ],
   "source": [
    "arr = [3, 6, 7, 1, 5, 4]\n",
    "n = len(arr)\n",
    "\n",
    "for i in range(1<<n): # 1<<n = 1000000(64) => 부분 집합의 개수\n",
    "    for j in range(n): # 원소의 수만큼 비트를 비교 => 원소의 포함 여부 판단이 가능함\n",
    "        if i & (1<<j): # i의 j번째 비트가 1이면 j번째 원소 출력\n",
    "            print(arr[j], end=\",\")\n",
    "    print()"
   ]
  },
  {
   "cell_type": "code",
   "execution_count": null,
   "metadata": {},
   "outputs": [],
   "source": []
  }
 ],
 "metadata": {
  "kernelspec": {
   "display_name": "Python 3",
   "language": "python",
   "name": "python3"
  },
  "language_info": {
   "codemirror_mode": {
    "name": "ipython",
    "version": 3
   },
   "file_extension": ".py",
   "mimetype": "text/x-python",
   "name": "python",
   "nbconvert_exporter": "python",
   "pygments_lexer": "ipython3",
   "version": "3.7.4"
  }
 },
 "nbformat": 4,
 "nbformat_minor": 2
}
