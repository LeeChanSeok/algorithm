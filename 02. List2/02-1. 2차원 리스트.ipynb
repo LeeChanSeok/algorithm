{
 "cells": [
  {
   "cell_type": "markdown",
   "metadata": {},
   "source": [
    "# 1차시 : 2차원 List"
   ]
  },
  {
   "cell_type": "markdown",
   "metadata": {},
   "source": [
    "## 2차원 리스트 초기화 "
   ]
  },
  {
   "cell_type": "code",
   "execution_count": 2,
   "metadata": {},
   "outputs": [
    {
     "data": {
      "text/plain": [
       "[0, 0, 0, 0, 0]"
      ]
     },
     "execution_count": 2,
     "metadata": {},
     "output_type": "execute_result"
    }
   ],
   "source": [
    "arr = [0] * 5\n",
    "arr"
   ]
  },
  {
   "cell_type": "code",
   "execution_count": 3,
   "metadata": {},
   "outputs": [
    {
     "data": {
      "text/plain": [
       "[2, 4, 6, 8]"
      ]
     },
     "execution_count": 3,
     "metadata": {},
     "output_type": "execute_result"
    }
   ],
   "source": [
    "arr = [i for i in range(2, 9) if i%2 == 0]\n",
    "arr"
   ]
  },
  {
   "cell_type": "code",
   "execution_count": 5,
   "metadata": {},
   "outputs": [
    {
     "data": {
      "text/plain": [
       "[[1, 2, 3], [1, 2, 3], [1, 2, 3]]"
      ]
     },
     "execution_count": 5,
     "metadata": {},
     "output_type": "execute_result"
    }
   ],
   "source": [
    "brr = [[1, 2, 3]] * 3\n",
    "brr"
   ]
  },
  {
   "cell_type": "code",
   "execution_count": 8,
   "metadata": {},
   "outputs": [
    {
     "data": {
      "text/plain": [
       "[[0, 0], [0, 1], [1, 0], [1, 1], [2, 0], [2, 1]]"
      ]
     },
     "execution_count": 8,
     "metadata": {},
     "output_type": "execute_result"
    }
   ],
   "source": [
    "brr = [[i, j] for i in range(3) for j in range(2)]\n",
    "brr"
   ]
  },
  {
   "cell_type": "markdown",
   "metadata": {},
   "source": [
    "## 2차원 List 입력 받기 "
   ]
  },
  {
   "cell_type": "code",
   "execution_count": 10,
   "metadata": {},
   "outputs": [
    {
     "name": "stdout",
     "output_type": "stream",
     "text": [
      "3 4\n",
      "0 1 0 0\n",
      "0 0 0 0\n",
      "0 0 1 0\n"
     ]
    },
    {
     "data": {
      "text/plain": [
       "[[0, 1, 0, 0], [0, 0, 0, 0], [0, 0, 1, 0]]"
      ]
     },
     "execution_count": 10,
     "metadata": {},
     "output_type": "execute_result"
    }
   ],
   "source": [
    "n, m = map(int, input().split())\n",
    "\n",
    "mylist = [0 for _ in range(n)]\n",
    "# mylist = [0] * n\n",
    "\n",
    "for i in range(n):\n",
    "    mylist[i] = list(map(int, input().split()))\n",
    "    \n",
    "mylist"
   ]
  },
  {
   "cell_type": "code",
   "execution_count": 12,
   "metadata": {},
   "outputs": [
    {
     "name": "stdout",
     "output_type": "stream",
     "text": [
      "1 1 0 0\n",
      "0 0 1 1\n",
      "0 0 0 0\n"
     ]
    },
    {
     "data": {
      "text/plain": [
       "[[1, 1, 0, 0], [0, 0, 1, 1], [0, 0, 0, 0]]"
      ]
     },
     "execution_count": 12,
     "metadata": {},
     "output_type": "execute_result"
    }
   ],
   "source": [
    "mylist2 = []\n",
    "for i in range(n):\n",
    "    mylist2.append(list(map(int, input().split())))\n",
    "\n",
    "mylist2"
   ]
  },
  {
   "cell_type": "code",
   "execution_count": 14,
   "metadata": {},
   "outputs": [
    {
     "name": "stdout",
     "output_type": "stream",
     "text": [
      "1 0 0 0\n",
      "0 1 0 0 \n",
      "0 0 1 0\n"
     ]
    },
    {
     "data": {
      "text/plain": [
       "[[1, 0, 0, 0], [0, 1, 0, 0], [0, 0, 1, 0]]"
      ]
     },
     "execution_count": 14,
     "metadata": {},
     "output_type": "execute_result"
    }
   ],
   "source": [
    "mylist3 = [list(map(int, input().split())) for _ in range(n)]\n",
    "\n",
    "mylist3"
   ]
  },
  {
   "cell_type": "markdown",
   "metadata": {},
   "source": [
    "## 2차원 List에서 데이터의 위치 찾기 \n",
    "\n",
    "### 주어진 데이터에서 1이 입력된 [행, 열]의 위치 찾기"
   ]
  },
  {
   "cell_type": "code",
   "execution_count": 19,
   "metadata": {},
   "outputs": [
    {
     "name": "stdout",
     "output_type": "stream",
     "text": [
      "3 4\n",
      "1 0 0 0 \n",
      "0 1 0 0\n",
      "0 0 0 1\n"
     ]
    },
    {
     "data": {
      "text/plain": [
       "[[0, 0], [1, 1], [2, 3]]"
      ]
     },
     "execution_count": 19,
     "metadata": {},
     "output_type": "execute_result"
    }
   ],
   "source": [
    "n, m = map(int, input().split())\n",
    "\n",
    "newlist = []\n",
    "mylist = [0 for _ in range(n)]\n",
    "# mylist = [0] * n\n",
    "\n",
    "for i in range(n):\n",
    "    mylist[i] = list(map(int, input().split()))\n",
    "    for j in range(m):\n",
    "        if mylist[i][j] == 1:\n",
    "            newlist.append([i, j])\n",
    "            \n",
    "newlist"
   ]
  },
  {
   "cell_type": "code",
   "execution_count": 21,
   "metadata": {},
   "outputs": [
    {
     "data": {
      "text/plain": [
       "[(0, 0), (1, 1), (2, 3)]"
      ]
     },
     "execution_count": 21,
     "metadata": {},
     "output_type": "execute_result"
    }
   ],
   "source": [
    "newlist2 = []\n",
    "newlist2 = [(i, j) for i in range(n) for j in range(m) if mylist[i][j] == 1]\n",
    "\n",
    "newlist2"
   ]
  },
  {
   "cell_type": "markdown",
   "metadata": {},
   "source": [
    "## 2차원 List의 순회 \n",
    " - n X m List의 n*m개의 모든 원소를 빠짐없이 조사하는 방법"
   ]
  },
  {
   "cell_type": "markdown",
   "metadata": {},
   "source": [
    "### 행 우선 순회\n",
    " - List의 행을 우선으로 List의 ㅣ원소를 조사하는 방법"
   ]
  },
  {
   "cell_type": "code",
   "execution_count": 23,
   "metadata": {},
   "outputs": [
    {
     "data": {
      "text/plain": [
       "[[0, 1, 2, 3], [1, 2, 3, 4], [2, 3, 4, 5]]"
      ]
     },
     "execution_count": 23,
     "metadata": {},
     "output_type": "execute_result"
    }
   ],
   "source": [
    "arr = [[0, 1, 2, 3], [4, 5, 6, 7], [8, 9, 10, 11]]\n",
    "\n",
    "# i = 행의 좌표, n = len(arr)\n",
    "# j = 열의 좌표, m = len(arr[0])\n",
    "\n",
    "for i in range(len(arr)):\n",
    "    for j in range(len(arr[0])):\n",
    "        arr[i][j] = i + j\n",
    "        \n",
    "arr"
   ]
  },
  {
   "cell_type": "markdown",
   "metadata": {},
   "source": [
    "### 열 우선 순회\n",
    "- List의 열부터 먼저 조사하는 방법"
   ]
  },
  {
   "cell_type": "code",
   "execution_count": 25,
   "metadata": {},
   "outputs": [
    {
     "data": {
      "text/plain": [
       "[[0, -1, -2, -3], [1, 0, -1, -2], [2, 1, 0, -1]]"
      ]
     },
     "execution_count": 25,
     "metadata": {},
     "output_type": "execute_result"
    }
   ],
   "source": [
    "for j in range(len(arr[0])):\n",
    "    for i in range(len(arr)):\n",
    "        arr[i][j] = i - j\n",
    "arr"
   ]
  },
  {
   "cell_type": "markdown",
   "metadata": {},
   "source": [
    "### 지그재그 순회\n",
    " - 행을 좌우로 조사하는 방법 (ex - 1행은 오른쪽방향으로 순회, 2행은 왼쪽방향으로 순회)"
   ]
  },
  {
   "cell_type": "code",
   "execution_count": 26,
   "metadata": {},
   "outputs": [
    {
     "data": {
      "text/plain": [
       "[[0, 0, 0, 0], [0, 0, 0, 0], [0, 0, 0, 0]]"
      ]
     },
     "execution_count": 26,
     "metadata": {},
     "output_type": "execute_result"
    }
   ],
   "source": [
    "for i in range(len(arr)):\n",
    "    for j in range(len(arr[0])):\n",
    "        arr[i][j + (len(arr[0]) - 1 - 2 * j) * (i % 2)] = 0 # 홀수 행은 [len(arr[0]) - 1 - j] / 짝수 행은 [j]\n",
    "        \n",
    "arr"
   ]
  },
  {
   "cell_type": "markdown",
   "metadata": {},
   "source": [
    "## 델타를 이용한 2차 List 탐색\n",
    " - 2차 List의 한 좌표에서 네 방향의 인접 List 요소를 탐색할 때 사용하는 방법\n",
    " - 델타 값은 한 좌표에서 네 방향의 좌표와 x, y의 차이를 저장한 List로 구현\n",
    " - 델타 값을 이용하여 특정 원소의 상하좌우에 위치한 원소에 접근할 수 있음\n",
    " - Tip: 가장자리 원소는 네 방향에 원소가 존재하지 않는 경우가 있으므로, index를 체크하거나 범위를 제한해야 함"
   ]
  },
  {
   "cell_type": "code",
   "execution_count": 28,
   "metadata": {},
   "outputs": [
    {
     "name": "stdout",
     "output_type": "stream",
     "text": [
      "4\n",
      "6\n",
      "1\n",
      "9\n",
      "5\n",
      "7\n",
      "2\n",
      "10\n"
     ]
    }
   ],
   "source": [
    "arr = [[0, 1, 2, 3], [4, 5, 6, 7], [8, 9, 10, 11]] # 3행 4열\n",
    "dx = [0, 0, -1, 1] # 상하좌우\n",
    "dy = [-1, 1, 0, 0]\n",
    "\n",
    "for x in range(1, len(arr) - 1): # 0, 1, 2\n",
    "    for y in range(1, len(arr[x]) - 1): # 0, 1, 2, 3\n",
    "        for i in range(4):\n",
    "            testX = x + dx[i]\n",
    "            testY = y + dy[i]\n",
    "            print(arr[testX][testY])\n"
   ]
  },
  {
   "cell_type": "markdown",
   "metadata": {},
   "source": [
    "## 전치행렬\n",
    " - 행과 열의 값이 반대인 행렬을 의미\n",
    " - Tip: 모든 좌표에 대하여 행과 열의 값을 바꾸게 되면 본래의 모습으로 되돌아오기 때문에 주의!"
   ]
  },
  {
   "cell_type": "code",
   "execution_count": 29,
   "metadata": {},
   "outputs": [
    {
     "data": {
      "text/plain": [
       "[[1, 4, 7], [2, 5, 8], [3, 6, 9]]"
      ]
     },
     "execution_count": 29,
     "metadata": {},
     "output_type": "execute_result"
    }
   ],
   "source": [
    "arr = [[1, 2, 3], [4, 5, 6], [7, 8, 9]] # 3*3행렬\n",
    "for i in range(len(arr)):\n",
    "    for j in range(len(arr[0])):\n",
    "        if i < j:\n",
    "            arr[i][j], arr[j][i] = arr[j][i], arr[i][j]\n",
    "arr"
   ]
  },
  {
   "cell_type": "markdown",
   "metadata": {},
   "source": [
    "### zip(iterable*)\n",
    " - 동일한 개수로 이루어진 자료형들을 묶어 주는 역할을 하는 함수\n",
    " - 개수가 다르면 작은 개수에 맞춰서 묶어줌\n",
    " - 묶여진 원소들은 튜플로 구성되어있고, 이 튜플들을 리스트나 딕셔너리에 담아서 활용"
   ]
  },
  {
   "cell_type": "code",
   "execution_count": 33,
   "metadata": {},
   "outputs": [
    {
     "data": {
      "text/plain": [
       "([('a', 1), ('b', 2), ('c', 3)], {'a': 1, 'b': 2, 'c': 3})"
      ]
     },
     "execution_count": 33,
     "metadata": {},
     "output_type": "execute_result"
    }
   ],
   "source": [
    "alpha = ['a', 'b', 'c']\n",
    "index = [1, 2, 3]\n",
    "alpha_index_list = list(zip(alpha, index))\n",
    "alpha_index_dict = dict(zip(alpha, index))\n",
    "\n",
    "alpha_index_list, alpha_index_dict"
   ]
  },
  {
   "cell_type": "code",
   "execution_count": 31,
   "metadata": {},
   "outputs": [
    {
     "data": {
      "text/plain": [
       "[(1, 4, 7), (2, 5, 8), (3, 6, 9)]"
      ]
     },
     "execution_count": 31,
     "metadata": {},
     "output_type": "execute_result"
    }
   ],
   "source": [
    "# zip 내장함수를 이용하여 행렬 전치하기 => zip(*matrix)\n",
    "\n",
    "arr = [[1, 2, 3], [4, 5, 6], [7, 8, 9]]\n",
    "list(zip(*arr)) # *(astrisk)는 행렬 리스트를 행별로 분리함"
   ]
  },
  {
   "cell_type": "code",
   "execution_count": null,
   "metadata": {},
   "outputs": [],
   "source": []
  }
 ],
 "metadata": {
  "kernelspec": {
   "display_name": "Python 3",
   "language": "python",
   "name": "python3"
  },
  "language_info": {
   "codemirror_mode": {
    "name": "ipython",
    "version": 3
   },
   "file_extension": ".py",
   "mimetype": "text/x-python",
   "name": "python",
   "nbconvert_exporter": "python",
   "pygments_lexer": "ipython3",
   "version": "3.7.4"
  }
 },
 "nbformat": 4,
 "nbformat_minor": 2
}
