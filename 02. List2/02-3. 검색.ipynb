{
 "cells": [
  {
   "cell_type": "markdown",
   "metadata": {},
   "source": [
    "# 검색\n",
    " - 검색의 종류 : 순차 검색(Sequential Search), 이진 검색(Binary Search), 인덱싱(Indexing)"
   ]
  },
  {
   "cell_type": "markdown",
   "metadata": {},
   "source": [
    "## 순차 검색\n",
    " - 일렬로 되어 있는 자료를 순서대로 검색\n",
    " - List, rinked-List 등 순차구조로 구현된 자료구조에서 유용\n",
    " - 구현이 쉽지만, 검색 대상이 많은 경우 수행시간의 증가로 비효율적\n",
    " - 2가지 경우: 정렬된 경우, 정렬되지 않은 경우"
   ]
  },
  {
   "cell_type": "markdown",
   "metadata": {},
   "source": [
    "### 정렬되지 않은 자료의 순차 검색 과정\n",
    "1. 첫번째 원소부터 순서대로 검색대상과 키 값이 같은 원소가 있는지 비교\n",
    "2. 키 값이 동일한 원소를 찾으면 그 원소의 인덱스 반환\n",
    "3. 자료구조의 마지막에 갈 때까지 검색 대상을 찾지 못하면 검색 실패\n",
    "\n",
    "평균 비교 횟수: 1/n(1+2+...+n) = (n+1)/2  =>  **시간 복잡도: O(n)**"
   ]
  },
  {
   "cell_type": "code",
   "execution_count": 2,
   "metadata": {},
   "outputs": [
    {
     "data": {
      "text/plain": [
       "2"
      ]
     },
     "execution_count": 2,
     "metadata": {},
     "output_type": "execute_result"
    }
   ],
   "source": [
    "def sequentialSearch(a, n, key):\n",
    "    i = 0\n",
    "    while i < n and a[i] != key:\n",
    "        i += 1\n",
    "    return i if i < n else -1\n",
    "\n",
    "a = [5, 3, 1, 2, 4]\n",
    "n = 5\n",
    "key = 1\n",
    "result = sequentialSearch(a, n, key)\n",
    "result"
   ]
  },
  {
   "cell_type": "markdown",
   "metadata": {},
   "source": [
    "### 정렬된 자료의 검색 과정\n",
    "1. 오름차순 정렬 가정\n",
    "2. 순차적으로 검색하면서 키 값 비교\n",
    "3. 원소의 키 값이 대상의 키 값보다 크면 원소가 없다는 것이므로 더 이상 검색하지 않고 종료\n",
    "\n",
    "검색 실패를 반환하는 경우 평균 비교 회수가 반으로 줄어듦 => **시간 복잡도: O(n)**"
   ]
  },
  {
   "cell_type": "code",
   "execution_count": 4,
   "metadata": {},
   "outputs": [
    {
     "data": {
      "text/plain": [
       "3"
      ]
     },
     "execution_count": 4,
     "metadata": {},
     "output_type": "execute_result"
    }
   ],
   "source": [
    "def sequentialSearch2(a, n, key):\n",
    "    i = 0\n",
    "    while i < n and a[i] < key:\n",
    "        i += 1\n",
    "    return i if (i < n and a[i] == key) else -1\n",
    "\n",
    "a = [1, 3, 5, 7, 9]\n",
    "n = 5\n",
    "key = 7\n",
    "result = sequentialSearch(a, n, key)\n",
    "result"
   ]
  },
  {
   "cell_type": "markdown",
   "metadata": {},
   "source": [
    "## 이진 검색\n",
    "- 효율적\n",
    "- 가운데 항목의 키 값과 비교하여 다음 검색 위치 결정 => 범위를 반으로 줄이면서 빠르게\n",
    "- 자료가 정렬된 상태 가정\n",
    "- **시간복잡도: O(logN)**\n",
    "\n",
    "### 이진 검색 과정\n",
    "1. 자료의 중앙 원소 선택\n",
    "2. 중앙 원소 값과 목표 값을 비교\n",
    "3. 목표값 < 중앙 원소 값: 자료의 왼쪽 반에 대해서 새로 검색 / 반대도 마찬가지\n",
    "4. 목표값을 찾을 때까지 1~3 과정 반복\n",
    "\n",
    "### 구현 방법\n",
    "- 검색 범위의 시작점과 종료점을 이용\n",
    "- 자료를 삽입하거나 삭제했을 때, List의 상태를 항상 정렬 상태로 유지하는 추가 작업 필요"
   ]
  },
  {
   "cell_type": "code",
   "execution_count": 8,
   "metadata": {},
   "outputs": [
    {
     "data": {
      "text/plain": [
       "True"
      ]
     },
     "execution_count": 8,
     "metadata": {},
     "output_type": "execute_result"
    }
   ],
   "source": [
    "def binarySearch(a, key):\n",
    "    start = 0\n",
    "    end = len(a) - 1\n",
    "    while start <= end:\n",
    "        middle = start + (end - start) // 2\n",
    "        if key == a[middle]:  # 검색성공\n",
    "            return True\n",
    "        elif key < a[middle]:\n",
    "            end = middle - 1\n",
    "        else:\n",
    "            start = middle + 1\n",
    "    return False # 검색 설패\n",
    "\n",
    "a = [1, 2, 4, 6, 8, 9]\n",
    "key = 6\n",
    "binarySearch(a, key)"
   ]
  },
  {
   "cell_type": "code",
   "execution_count": 12,
   "metadata": {},
   "outputs": [
    {
     "data": {
      "text/plain": [
       "True"
      ]
     },
     "execution_count": 12,
     "metadata": {},
     "output_type": "execute_result"
    }
   ],
   "source": [
    "def binarySearch2(a, low, high, key): # 재귀함수로 구현한 이진 검색\n",
    "    if low > high: # 검색실패\n",
    "        return False\n",
    "    else:\n",
    "        middle = (low + high) // 2\n",
    "        if key == a[middle]: # 검색 성공\n",
    "            return True\n",
    "        elif key < a[middle]:\n",
    "            return binarySearch2(a, low, middle-1, key)\n",
    "        elif a[middle] < key:\n",
    "            return binarySearch2(a, middle+1, high, key)\n",
    "        \n",
    "a = [1, 2, 4, 6, 8, 9]\n",
    "key = 6\n",
    "binarySearch2(a, 1, 9, key)"
   ]
  },
  {
   "cell_type": "markdown",
   "metadata": {},
   "source": [
    "## 인덱스\n",
    "- 데이트베이스에서 유래, 테이블에 대한 동작 속도를 높임\n",
    "- 룩 업 테이블(Look up table) 등의 용어로 사용\n",
    "- 인덱스를 저장하는데 필요한 디스크 공간은 보통 테이블 저장에 필요한 디스크 공간보다 작음 => 키-필드만 갖고 있음\n",
    "- List를 사용한 인덱스: 대량의 데이터를 매번 정렬하면 발생하는 성능 저하 문제 해결\n",
    "- Tip: 원본 데이터에 데이터가 삽입될 경우 상대적으로 크기가 작은 인덱스 List를 정렬하기 때문에 속도가 빠름"
   ]
  },
  {
   "cell_type": "code",
   "execution_count": null,
   "metadata": {},
   "outputs": [],
   "source": []
  }
 ],
 "metadata": {
  "kernelspec": {
   "display_name": "Python 3",
   "language": "python",
   "name": "python3"
  },
  "language_info": {
   "codemirror_mode": {
    "name": "ipython",
    "version": 3
   },
   "file_extension": ".py",
   "mimetype": "text/x-python",
   "name": "python",
   "nbconvert_exporter": "python",
   "pygments_lexer": "ipython3",
   "version": "3.7.4"
  }
 },
 "nbformat": 4,
 "nbformat_minor": 2
}
