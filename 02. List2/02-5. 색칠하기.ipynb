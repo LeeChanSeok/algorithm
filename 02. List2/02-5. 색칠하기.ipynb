{
 "cells": [
  {
   "cell_type": "code",
   "execution_count": 2,
   "metadata": {},
   "outputs": [
    {
     "data": {
      "text/plain": [
       "'\\n3\\n2\\n2 2 4 4 1\\n3 3 6 6 2\\n3\\n1 2 3 3 1\\n3 6 6 8 1\\n2 3 5 6 2\\n3\\n1 4 8 5 1\\n1 8 3 9 1\\n3 2 5 8 2\\n'"
      ]
     },
     "execution_count": 2,
     "metadata": {},
     "output_type": "execute_result"
    }
   ],
   "source": [
    "\"\"\"\n",
    "3\n",
    "2\n",
    "2 2 4 4 1\n",
    "3 3 6 6 2\n",
    "3\n",
    "1 2 3 3 1\n",
    "3 6 6 8 1\n",
    "2 3 5 6 2\n",
    "3\n",
    "1 4 8 5 1\n",
    "1 8 3 9 1\n",
    "3 2 5 8 2\n",
    "\"\"\" "
   ]
  },
  {
   "cell_type": "code",
   "execution_count": 30,
   "metadata": {},
   "outputs": [
    {
     "data": {
      "text/plain": [
       "[[0, 0, 0, 0, 0, 0, 0, 0, 0, 0],\n",
       " [0, 0, 0, 0, 0, 0, 0, 0, 0, 0],\n",
       " [0, 0, 0, 0, 0, 0, 0, 0, 0, 0],\n",
       " [0, 0, 0, 0, 0, 0, 0, 0, 0, 0],\n",
       " [0, 0, 0, 0, 0, 0, 0, 0, 0, 0],\n",
       " [0, 0, 0, 0, 0, 0, 0, 0, 0, 0],\n",
       " [0, 0, 0, 0, 0, 0, 0, 0, 0, 0],\n",
       " [0, 0, 0, 0, 0, 0, 0, 0, 0, 0],\n",
       " [0, 0, 0, 0, 0, 0, 0, 0, 0, 0],\n",
       " [0, 0, 0, 0, 0, 0, 0, 0, 0, 0]]"
      ]
     },
     "execution_count": 30,
     "metadata": {},
     "output_type": "execute_result"
    }
   ],
   "source": [
    "# 2차원 List 초기화\n",
    "arr = [[0 for _ in range(10)] for _ in range(10)]\n",
    "\n",
    "arr"
   ]
  },
  {
   "cell_type": "code",
   "execution_count": 11,
   "metadata": {},
   "outputs": [
    {
     "name": "stdout",
     "output_type": "stream",
     "text": [
      "2\n",
      "2 2 4 4 1\n",
      "3 3 6 6 2\n"
     ]
    },
    {
     "data": {
      "text/plain": [
       "[{'start_x': 2, 'start_y': 2, 'end_x': 4, 'end_y': 4, 'color': 1},\n",
       " {'start_x': 3, 'start_y': 3, 'end_x': 6, 'end_y': 6, 'color': 2}]"
      ]
     },
     "execution_count": 11,
     "metadata": {},
     "output_type": "execute_result"
    }
   ],
   "source": [
    "# 색칠 영역 갯수 입력받기\n",
    "N = int(input())\n",
    "\n",
    "# 색칠 영역 입력받아서 boxes List에 저장\n",
    "boxes = []\n",
    "key = [\"start_x\", \"start_y\", \"end_x\", \"end_y\", \"color\"]\n",
    "for _ in range(N):\n",
    "    value = list(map(int, input().split())) # start_x, start_y, end_x, end_y, color\n",
    "    box = dict(zip(key, value))\n",
    "    boxes.append(box)\n",
    "    \n",
    "boxes"
   ]
  },
  {
   "cell_type": "code",
   "execution_count": 31,
   "metadata": {},
   "outputs": [
    {
     "data": {
      "text/plain": [
       "4"
      ]
     },
     "execution_count": 31,
     "metadata": {},
     "output_type": "execute_result"
    }
   ],
   "source": [
    "count = 0\n",
    "# boxes List for문 돌면서 arr에 색칠하기\n",
    "for box in boxes:\n",
    "    for i in range(box['start_y'], box['end_y'] + 1): # 행\n",
    "        for j in range(box['start_x'], box['end_x'] + 1): # 열\n",
    "            arr[i][j] += box['color']\n",
    "            if arr[i][j] == 3:\n",
    "                count += 1\n",
    "                \n",
    "count"
   ]
  },
  {
   "cell_type": "code",
   "execution_count": 32,
   "metadata": {},
   "outputs": [
    {
     "data": {
      "text/plain": [
       "2"
      ]
     },
     "execution_count": 32,
     "metadata": {},
     "output_type": "execute_result"
    }
   ],
   "source": [
    "int(2.5)"
   ]
  },
  {
   "cell_type": "code",
   "execution_count": 33,
   "metadata": {},
   "outputs": [
    {
     "data": {
      "text/plain": [
       "2"
      ]
     },
     "execution_count": 33,
     "metadata": {},
     "output_type": "execute_result"
    }
   ],
   "source": [
    "int(2.9)"
   ]
  },
  {
   "cell_type": "code",
   "execution_count": 34,
   "metadata": {},
   "outputs": [
    {
     "data": {
      "text/plain": [
       "2"
      ]
     },
     "execution_count": 34,
     "metadata": {},
     "output_type": "execute_result"
    }
   ],
   "source": [
    "5//2"
   ]
  },
  {
   "cell_type": "code",
   "execution_count": 35,
   "metadata": {},
   "outputs": [
    {
     "data": {
      "text/plain": [
       "2.5"
      ]
     },
     "execution_count": 35,
     "metadata": {},
     "output_type": "execute_result"
    }
   ],
   "source": [
    "5/2"
   ]
  },
  {
   "cell_type": "code",
   "execution_count": null,
   "metadata": {},
   "outputs": [],
   "source": []
  }
 ],
 "metadata": {
  "kernelspec": {
   "display_name": "Python 3",
   "language": "python",
   "name": "python3"
  },
  "language_info": {
   "codemirror_mode": {
    "name": "ipython",
    "version": 3
   },
   "file_extension": ".py",
   "mimetype": "text/x-python",
   "name": "python",
   "nbconvert_exporter": "python",
   "pygments_lexer": "ipython3",
   "version": "3.7.4"
  }
 },
 "nbformat": 4,
 "nbformat_minor": 2
}
