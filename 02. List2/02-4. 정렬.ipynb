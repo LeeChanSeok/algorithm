{
 "cells": [
  {
   "cell_type": "markdown",
   "metadata": {},
   "source": [
    "# 정렬"
   ]
  },
  {
   "cell_type": "markdown",
   "metadata": {},
   "source": [
    "## 셀렉션 알고리즘\n",
    " - 저장되어 있는 자료로부터 k번째로 크거나 작은 원소를 찾는 방법\n",
    " - 최소값, 최대값 혹은 중간값을 찾는 알고리즘을 의미하기도 함\n",
    " \n",
    "### 셀렉션 선택 과정\n",
    " 1. 자료 정렬\n",
    " 2. 원하는 순서의 원소 가져오기"
   ]
  },
  {
   "cell_type": "markdown",
   "metadata": {},
   "source": [
    "### k번째로 작은 원소를 찾는 알고리즘\n",
    "- 1번부터 k번째까지 작은 원소를 찾아 List의 앞쪽으로 이동시키고, List의 k번째를 반환\n",
    "- k가 비교적 작을 때 유용\n",
    "- **시간 복잡도: O(kn)**"
   ]
  },
  {
   "cell_type": "code",
   "execution_count": 7,
   "metadata": {},
   "outputs": [
    {
     "data": {
      "text/plain": [
       "3"
      ]
     },
     "execution_count": 7,
     "metadata": {},
     "output_type": "execute_result"
    }
   ],
   "source": [
    "def select(nums, k):\n",
    "    for i in range(0, k):\n",
    "        minIndex = i\n",
    "        for j in range(i+1, len(nums)):\n",
    "            if nums[minIndex] > nums[j]:\n",
    "                minIndex = j\n",
    "        nums[i], nums[minIndex] = nums[minIndex], nums[i]\n",
    "    return nums[k-1]\n",
    "\n",
    "nums = [3, 6, 2, 1, 4]\n",
    "select(nums, 3)"
   ]
  },
  {
   "cell_type": "markdown",
   "metadata": {},
   "source": [
    "## 선택 정렬\n",
    " - 셀렉션 알고리즘을 전체 자료에 적용한 것\n",
    " - 가장 작은 값의 원소부터 차례대로 선택하여 위치를 교환\n",
    " - **시간복잡도: O(n<sup>2</sup>)**\n",
    " \n",
    "\n",
    "### 정렬 과정\n",
    " 1. 주어진 List 중에서 최소값을 찾음\n",
    " 2. 그 값을 List의 맨 앞에 위치한 값과 교환\n",
    " 3. 맨 처음 위치를 제외한 나머지 List를 대상으로 위 과정을 반복"
   ]
  },
  {
   "cell_type": "code",
   "execution_count": 8,
   "metadata": {},
   "outputs": [
    {
     "data": {
      "text/plain": [
       "[1, 3, 5, 7, 9]"
      ]
     },
     "execution_count": 8,
     "metadata": {},
     "output_type": "execute_result"
    }
   ],
   "source": [
    "def selectionSort(a):\n",
    "    for i in range(0, len(a) - 1):\n",
    "        min = i\n",
    "        for j in range(i+1, len(a)):\n",
    "            if a[min] > a[j]:\n",
    "                min = j\n",
    "        a[i], a[min] = a[min], a[i]\n",
    "    \n",
    "a = [3, 5, 1, 9, 7]\n",
    "selectionSort(a)\n",
    "a"
   ]
  },
  {
   "cell_type": "code",
   "execution_count": null,
   "metadata": {},
   "outputs": [],
   "source": []
  }
 ],
 "metadata": {
  "kernelspec": {
   "display_name": "Python 3",
   "language": "python",
   "name": "python3"
  },
  "language_info": {
   "codemirror_mode": {
    "name": "ipython",
    "version": 3
   },
   "file_extension": ".py",
   "mimetype": "text/x-python",
   "name": "python",
   "nbconvert_exporter": "python",
   "pygments_lexer": "ipython3",
   "version": "3.7.4"
  }
 },
 "nbformat": 4,
 "nbformat_minor": 2
}
