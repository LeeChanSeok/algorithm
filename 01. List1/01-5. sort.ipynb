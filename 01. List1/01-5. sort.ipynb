{
 "cells": [
  {
   "cell_type": "markdown",
   "metadata": {},
   "source": [
    "# Sort(정렬)\n",
    " - 두 개 이상의 자료를 특정 기준으로 오름차순 혹은 내림차순으로 재배열하는 것\n",
    " - bubble sort(버블 정렬) / counting sort(카운팅 정렬) / selection sort(선택 정렬)\n",
    " - quick sort(퀵 정렬) / insertion sort(삽입 정렬) / merge sort(병합정렬)"
   ]
  },
  {
   "cell_type": "markdown",
   "metadata": {},
   "source": [
    "## 버블 정렬\n",
    " - 인접한 두 개의 원소를 비교하며 자리를 계속 교환하는 방식\n",
    " - **시간복잡도 : O(n<sup>2</sup>)**\n",
    "\n",
    "### 정렬 과정\n",
    " 1. 첫 원소부터 인접한 원소끼리 자리를 계속 교환하면서 마지막 원소까지 이동\n",
    " 2. 한 단계가 끝나면 가장 큰 원소 혹은 가장 작은 원소가 마지막 자리로 정렬됨\n"
   ]
  },
  {
   "cell_type": "code",
   "execution_count": 1,
   "metadata": {},
   "outputs": [
    {
     "data": {
      "text/plain": [
       "[1, 2, 3, 5, 6, 9]"
      ]
     },
     "execution_count": 1,
     "metadata": {},
     "output_type": "execute_result"
    }
   ],
   "source": [
    "def bubble_sort(nums):\n",
    "    for i in range(len(nums)-1, 0, -1):\n",
    "        for j in range(0, i):\n",
    "            if nums[j] > nums[j+1]:\n",
    "                nums[j], nums[j+1] = nums[j+1], nums[j]\n",
    "\n",
    "nums = [9, 1, 6, 2, 5, 3]\n",
    "bubble_sort(nums)\n",
    "nums"
   ]
  },
  {
   "cell_type": "markdown",
   "metadata": {},
   "source": [
    "# 카운팅 정렬\n",
    "- 항목의 순서를 결정하기 위해 집합에 각 항목이 몇 개씩 있는지 세는 작업을 하여, 선형 시간에 정렬하는 효율적인 알고리즘\n",
    "- 정수나 정수를 활용할 수 있는 자료형에서만 가능 <- 각 항목의 발생 회수를 기록하기 위해, 정수 항목으로 인덱스되는 카운트들의 리스트를 사용하기 때문\n",
    "- 카운트들의 충분한 공간을 할당하려면 집합 내의 가장 큰 수를 알아야 함\n",
    "- **시간복잡도 : O(n + k)**, n = # of list, k = # of max number\n",
    "\n",
    "## 정렬 과정\n",
    "1. 데이터 항목에서 각 항목들의 발생 회수를 세고, 정수 항목들로 직접 인덱스되는 카운트 리스트에 저장 (count[i] = 데이터 항목 i의 발생 회수)\n",
    "2. 카운트 리스트의 각 항목을 누적해서 더해줌 <- 정렬된 집합에서 각 항목의 앞에 위치할 항목들의 개수를 측정\n",
    "3. count[i]를 감소시키면서 temp 리스트에 i를 삽입"
   ]
  },
  {
   "cell_type": "code",
   "execution_count": 4,
   "metadata": {},
   "outputs": [
    {
     "data": {
      "text/plain": [
       "[0, 1, 2, 2, 3, 3, 4, 4]"
      ]
     },
     "execution_count": 4,
     "metadata": {},
     "output_type": "execute_result"
    }
   ],
   "source": [
    "def counting_sort(data):\n",
    "    n = len(data)\n",
    "    k = len(set(data))\n",
    "    temp = [0 for _ in range(n)]\n",
    "    count = [0 for _ in range(k)]\n",
    "\n",
    "    for i in range(n):\n",
    "        count[data[i]] += 1\n",
    "        \n",
    "    for i in range(1, k):\n",
    "        count[i] += count[i - 1]\n",
    "        \n",
    "    for i in range(n - 1, -1, -1):\n",
    "        temp[count[data[i]] - 1] = data[i]\n",
    "        count[data[i]] -= 1\n",
    "    \n",
    "    return temp\n",
    "        \n",
    "data = [4, 3, 2, 3, 1, 4, 2, 0]\n",
    "counting_sort(data)"
   ]
  },
  {
   "cell_type": "code",
   "execution_count": null,
   "metadata": {},
   "outputs": [],
   "source": []
  }
 ],
 "metadata": {
  "kernelspec": {
   "display_name": "Python 3",
   "language": "python",
   "name": "python3"
  },
  "language_info": {
   "codemirror_mode": {
    "name": "ipython",
    "version": 3
   },
   "file_extension": ".py",
   "mimetype": "text/x-python",
   "name": "python",
   "nbconvert_exporter": "python",
   "pygments_lexer": "ipython3",
   "version": "3.7.4"
  }
 },
 "nbformat": 4,
 "nbformat_minor": 2
}
