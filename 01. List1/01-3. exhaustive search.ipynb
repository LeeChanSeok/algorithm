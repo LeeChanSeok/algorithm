{
 "cells": [
  {
   "cell_type": "markdown",
   "metadata": {},
   "source": [
    "# 완전 검색 (exhaustive search)\n",
    " - 문제의 해법으로 생각해 볼 수 있는 모든 경우의 수를 나열해보고 확인하는 기법\n",
    " - Brute-force 혹은 Generate and Test 기법이라고도 불림\n",
    " - 모든 경우의 수를 테스트한 후, 최종 해법을 도출\n",
    " - 일반적으로 경우의 수가 적을 때 유리함\n",
    " - 수행 속도는 느리지만, 해법 도출을 실패할 가능성이 작음\n",
    " - 우선 완전 검색으로 해답을 도출한 이후, 성능 개선을 위해 다른 알고리즘을 사용하는 것이 바람직\n",
    " \n",
    "\n",
    "## 예제) baby-gin game\n",
    " - 총 1~9 숫자의 카드에서 6장을 뽑아서 숫자 비교\n",
    " - run : 연속된 3장의 카드\n",
    " - triplette : 같은 숫자 3장\n",
    " - baby-gin : 6장의 카드가 run과 triplette으로 구성된 경우\n",
    " \n",
    " \n",
    "## 순열\n",
    " - 서로 다른 것들 중 몇 개를 뽑아서 한줄로 나열하는 것\n",
    " - <sub>n</sub>P<sub>r</sub> = n * (n - 1) * ... * (n - r + 1)\n",
    " - <sub>n</sub>P<sub>n</sub> = n!\n"
   ]
  },
  {
   "cell_type": "code",
   "execution_count": 1,
   "metadata": {},
   "outputs": [
    {
     "name": "stdout",
     "output_type": "stream",
     "text": [
      "1 2 3\n",
      "1 3 2\n",
      "2 1 3\n",
      "2 3 1\n",
      "3 1 2\n",
      "3 2 1\n"
     ]
    }
   ],
   "source": [
    " # {1, 2, 3} 을 포함하는 모든 순열 생성하기\n",
    "for i in range(1, 4):\n",
    "    for j in range(1, 4):\n",
    "        if i != j:\n",
    "            for k in range(1, 4):\n",
    "                if i != k and j != k:\n",
    "                    print(i, j, k)"
   ]
  },
  {
   "cell_type": "code",
   "execution_count": null,
   "metadata": {},
   "outputs": [],
   "source": []
  }
 ],
 "metadata": {
  "kernelspec": {
   "display_name": "Python 3",
   "language": "python",
   "name": "python3"
  },
  "language_info": {
   "codemirror_mode": {
    "name": "ipython",
    "version": 3
   },
   "file_extension": ".py",
   "mimetype": "text/x-python",
   "name": "python",
   "nbconvert_exporter": "python",
   "pygments_lexer": "ipython3",
   "version": "3.7.4"
  }
 },
 "nbformat": 4,
 "nbformat_minor": 2
}
