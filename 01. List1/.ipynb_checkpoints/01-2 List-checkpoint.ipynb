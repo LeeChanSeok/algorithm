{
 "cells": [
  {
   "cell_type": "markdown",
   "metadata": {},
   "source": [
    "# Python\n",
    "## variables\n",
    " - 모든 자료는 객체형태 => 자바나 C에서 사용되는 기본형 타입 변수도 객체로 구현되어 있음\n",
    " - 변수 초기화 필요없음 => 변수 값 초기화시 변수에 메모리 생성\n",
    " - 하나의 변수에 다른 타입의 값 저장 가능\n",
    " \n",
    "## 자료형\n",
    " - 타입 type()\n",
    " - 정수 int : 메모리 제한없이 사용 가능\n",
    " - 실수 float\n",
    " - 복소수 complex\n",
    " - bool\n",
    " - 문자열 str\n",
    " - **tuple**\n",
    "     - () 순서 / 중복 / ~~데이터 변경~~ / 수의 나열은 tuple로 인식 => packing, unpacking\n",
    " - **list**\n",
    "     - [] / 순서 / 중복 / 데이터 변경 \n",
    " - **dict**\n",
    "     - {} / ~~순서~~ / 중복 (~~key~~, value) / 데이터 변경 / 키: 값의 구조로 저장, 불변 객체로\n",
    " - **set**\n",
    "     - {} / ~~순서~~ / ~~중복~~ / 데이터 변경 / 불변 객체만 저장 가능\n",
    " - None NoneType\n",
    " - 함수 function\n",
    " - class 클래스명\n"
   ]
  },
  {
   "attachments": {},
   "cell_type": "markdown",
   "metadata": {},
   "source": [
    "# 배열(Array)\n",
    " - 같은 타입의 변수를 하나의 이름으로 열거하여 사용하는 자료구조\n",
    " - 파이썬의 List는 자바나 C의 Array와 비슷한 구조\n",
    "\n",
    "\n",
    "# 리스트(List)\n",
    " - Array 와 차이점\n",
    "     - 같은 타입이 아니라도 상관 없음 \n",
    "     - 크기를 가변적으로 변경할 수 있음 (Array는 처음 지정하면 변경 불가)\n",
    " - Sequence 자료형\n",
    "     - 순서가 존재하므로, 인덱싱과 슬라이싱 가능\n",
    " - 공백 리스트 생성 두가지 방법\n",
    "    - num = [] # 빈 list 생성\n",
    "    - arr = list() # 클래스 객체 생성자 활용!\n",
    "    \n",
    "    \n",
    "## built-in fn for list\n",
    "- len(list)\n",
    "- max(list)\n",
    "- min(list)\n",
    "- list(seq)\n",
    "\n",
    "\n",
    "## List Method\n",
    "- list.method\n",
    "- append()     Adds an element at the end of the list\n",
    "- clear()   \t    Removes all the elements from the list\n",
    "- copy()\t        Returns a copy of the list\n",
    "- count()\t        Returns the number of elements with the specified value\n",
    "- extend()     \tAdd the elements of a list (or any iterable), to the end of the current list\n",
    "- index()  \t    Returns the index of the first element with the specified value\n",
    "- insert()    \tAdds an element at the specified position\n",
    "- pop()    \t    Removes the element at the specified position\n",
    "- remove()      \tRemoves the first item with the specified value\n",
    "- reverse()    \tReverses the order of the list\n",
    "- sort()   \t    Sorts the list\n",
    "\n",
    "## List comprehension\n",
    " - 수학에서 집합을 정의하는 표현식과 유사\n",
    " - ex) [i for i in range(10) if i%2==0]"
   ]
  },
  {
   "cell_type": "markdown",
   "metadata": {},
   "source": []
  }
 ],
 "metadata": {
  "kernelspec": {
   "display_name": "Python 3",
   "language": "python",
   "name": "python3"
  },
  "language_info": {
   "codemirror_mode": {
    "name": "ipython",
    "version": 3
   },
   "file_extension": ".py",
   "mimetype": "text/x-python",
   "name": "python",
   "nbconvert_exporter": "python",
   "pygments_lexer": "ipython3",
   "version": "3.7.4"
  }
 },
 "nbformat": 4,
 "nbformat_minor": 2
}
