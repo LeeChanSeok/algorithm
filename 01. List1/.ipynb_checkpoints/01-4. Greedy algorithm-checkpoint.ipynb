{
 "cells": [
  {
   "cell_type": "markdown",
   "metadata": {},
   "source": [
    "# Greedy algorithm(탐욕 알고리즘)\n",
    "- 최적해를 구하는데 사용되는 근시안적 방법\n",
    "- 여러개 중 하나를 결정할 때 마다 그 순간에 최적이라고 생각되는 것을 선택해 나가는 방식으로 최종해답 도출\n",
    "- 각 선택 시에는 최적이지만 최종적인 해답이 최적이라는 보장은 없음\n",
    "- 머리속 생각을 검증없이 구현하면 일반적으로 greedy 접근이 됨\n",
    "\n",
    "## 과정\n",
    " - 해 선택 -> 실행 가능성 검사 -> 해 검사 (최종 해답까지 반복)\n",
    "\n"
   ]
  },
  {
   "cell_type": "code",
   "execution_count": null,
   "metadata": {},
   "outputs": [],
   "source": []
  }
 ],
 "metadata": {
  "kernelspec": {
   "display_name": "Python 3",
   "language": "python",
   "name": "python3"
  },
  "language_info": {
   "codemirror_mode": {
    "name": "ipython",
    "version": 3
   },
   "file_extension": ".py",
   "mimetype": "text/x-python",
   "name": "python",
   "nbconvert_exporter": "python",
   "pygments_lexer": "ipython3",
   "version": "3.7.4"
  }
 },
 "nbformat": 4,
 "nbformat_minor": 2
}
